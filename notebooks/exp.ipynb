{
 "cells": [
  {
   "cell_type": "code",
   "execution_count": 86,
   "metadata": {},
   "outputs": [],
   "source": [
    "import pandas as pd\n",
    "import numpy as np\n",
    "from sklearn.compose import ColumnTransformer\n",
    "from sklearn.preprocessing import OneHotEncoder, StandardScaler, OrdinalEncoder\n",
    "from sklearn.pipeline import Pipeline\n",
    "from sklearn.model_selection import train_test_split\n",
    "from sklearn.linear_model import LogisticRegression\n",
    "from sklearn.tree import DecisionTreeClassifier\n",
    "from sklearn.ensemble import RandomForestClassifier\n",
    "from sklearn.metrics import confusion_matrix, accuracy_score, precision_score, recall_score"
   ]
  },
  {
   "cell_type": "code",
   "execution_count": 75,
   "metadata": {},
   "outputs": [],
   "source": [
    "df=pd.read_csv(\"c:\\\\Users\\\\Hariprasad\\\\Documents\\\\Admission-prediction\\\\data\\\\raw\\\\data.csv\")"
   ]
  },
  {
   "cell_type": "code",
   "execution_count": 76,
   "metadata": {},
   "outputs": [
    {
     "data": {
      "text/plain": [
       "'c:\\\\Users\\\\Hariprasad\\\\Documents\\\\Admission-prediction\\\\notebooks'"
      ]
     },
     "execution_count": 76,
     "metadata": {},
     "output_type": "execute_result"
    }
   ],
   "source": [
    "import os\n",
    "os.getcwd()"
   ]
  },
  {
   "cell_type": "code",
   "execution_count": 77,
   "metadata": {},
   "outputs": [
    {
     "data": {
      "text/html": [
       "<div>\n",
       "<style scoped>\n",
       "    .dataframe tbody tr th:only-of-type {\n",
       "        vertical-align: middle;\n",
       "    }\n",
       "\n",
       "    .dataframe tbody tr th {\n",
       "        vertical-align: top;\n",
       "    }\n",
       "\n",
       "    .dataframe thead th {\n",
       "        text-align: right;\n",
       "    }\n",
       "</style>\n",
       "<table border=\"1\" class=\"dataframe\">\n",
       "  <thead>\n",
       "    <tr style=\"text-align: right;\">\n",
       "      <th></th>\n",
       "      <th>type_school</th>\n",
       "      <th>school_accreditation</th>\n",
       "      <th>gender</th>\n",
       "      <th>interest</th>\n",
       "      <th>residence</th>\n",
       "      <th>parent_age</th>\n",
       "      <th>parent_salary</th>\n",
       "      <th>house_area</th>\n",
       "      <th>average_grades</th>\n",
       "      <th>parent_was_in_college</th>\n",
       "      <th>in_college</th>\n",
       "    </tr>\n",
       "  </thead>\n",
       "  <tbody>\n",
       "    <tr>\n",
       "      <th>0</th>\n",
       "      <td>Academic</td>\n",
       "      <td>A</td>\n",
       "      <td>Male</td>\n",
       "      <td>Less Interested</td>\n",
       "      <td>Urban</td>\n",
       "      <td>56</td>\n",
       "      <td>6950000</td>\n",
       "      <td>83.0</td>\n",
       "      <td>84.09</td>\n",
       "      <td>False</td>\n",
       "      <td>True</td>\n",
       "    </tr>\n",
       "    <tr>\n",
       "      <th>1</th>\n",
       "      <td>Academic</td>\n",
       "      <td>A</td>\n",
       "      <td>Male</td>\n",
       "      <td>Less Interested</td>\n",
       "      <td>Urban</td>\n",
       "      <td>57</td>\n",
       "      <td>4410000</td>\n",
       "      <td>76.8</td>\n",
       "      <td>86.91</td>\n",
       "      <td>False</td>\n",
       "      <td>True</td>\n",
       "    </tr>\n",
       "    <tr>\n",
       "      <th>2</th>\n",
       "      <td>Academic</td>\n",
       "      <td>B</td>\n",
       "      <td>Female</td>\n",
       "      <td>Very Interested</td>\n",
       "      <td>Urban</td>\n",
       "      <td>50</td>\n",
       "      <td>6500000</td>\n",
       "      <td>80.6</td>\n",
       "      <td>87.43</td>\n",
       "      <td>False</td>\n",
       "      <td>True</td>\n",
       "    </tr>\n",
       "    <tr>\n",
       "      <th>3</th>\n",
       "      <td>Vocational</td>\n",
       "      <td>B</td>\n",
       "      <td>Male</td>\n",
       "      <td>Very Interested</td>\n",
       "      <td>Rural</td>\n",
       "      <td>49</td>\n",
       "      <td>6600000</td>\n",
       "      <td>78.2</td>\n",
       "      <td>82.12</td>\n",
       "      <td>True</td>\n",
       "      <td>True</td>\n",
       "    </tr>\n",
       "    <tr>\n",
       "      <th>4</th>\n",
       "      <td>Academic</td>\n",
       "      <td>A</td>\n",
       "      <td>Female</td>\n",
       "      <td>Very Interested</td>\n",
       "      <td>Urban</td>\n",
       "      <td>57</td>\n",
       "      <td>5250000</td>\n",
       "      <td>75.1</td>\n",
       "      <td>86.79</td>\n",
       "      <td>False</td>\n",
       "      <td>False</td>\n",
       "    </tr>\n",
       "  </tbody>\n",
       "</table>\n",
       "</div>"
      ],
      "text/plain": [
       "  type_school school_accreditation  gender         interest residence  \\\n",
       "0    Academic                    A    Male  Less Interested     Urban   \n",
       "1    Academic                    A    Male  Less Interested     Urban   \n",
       "2    Academic                    B  Female  Very Interested     Urban   \n",
       "3  Vocational                    B    Male  Very Interested     Rural   \n",
       "4    Academic                    A  Female  Very Interested     Urban   \n",
       "\n",
       "   parent_age  parent_salary  house_area  average_grades  \\\n",
       "0          56        6950000        83.0           84.09   \n",
       "1          57        4410000        76.8           86.91   \n",
       "2          50        6500000        80.6           87.43   \n",
       "3          49        6600000        78.2           82.12   \n",
       "4          57        5250000        75.1           86.79   \n",
       "\n",
       "   parent_was_in_college  in_college  \n",
       "0                  False        True  \n",
       "1                  False        True  \n",
       "2                  False        True  \n",
       "3                   True        True  \n",
       "4                  False       False  "
      ]
     },
     "execution_count": 77,
     "metadata": {},
     "output_type": "execute_result"
    }
   ],
   "source": [
    "df.head()"
   ]
  },
  {
   "cell_type": "code",
   "execution_count": 79,
   "metadata": {},
   "outputs": [
    {
     "name": "stdout",
     "output_type": "stream",
     "text": [
      "Unique values in column 'type_school':\n",
      "['Academic' 'Vocational']\n",
      "\n",
      "Unique values in column 'school_accreditation':\n",
      "['A' 'B']\n",
      "\n",
      "Unique values in column 'gender':\n",
      "['Male' 'Female']\n",
      "\n",
      "Unique values in column 'interest':\n",
      "['Less Interested' 'Very Interested' 'Uncertain' 'Not Interested'\n",
      " 'Quiet Interested']\n",
      "\n",
      "Unique values in column 'residence':\n",
      "['Urban' 'Rural']\n",
      "\n"
     ]
    }
   ],
   "source": [
    "for col in df.select_dtypes(include=\"object\").columns:\n",
    "    print(f\"Unique values in column '{col}':\")\n",
    "    print(df[col].unique())\n",
    "    print()  # For better readability\n"
   ]
  },
  {
   "cell_type": "code",
   "execution_count": 80,
   "metadata": {},
   "outputs": [],
   "source": [
    "x=df.drop(columns='in_college')\n",
    "y=df['in_college']"
   ]
  },
  {
   "cell_type": "code",
   "execution_count": 81,
   "metadata": {},
   "outputs": [],
   "source": [
    "train_x,test_x,train_y,test_y=train_test_split(x,y)"
   ]
  },
  {
   "cell_type": "code",
   "execution_count": 82,
   "metadata": {},
   "outputs": [],
   "source": [
    "\n",
    "\n",
    "# Define each pipeline with StandardScaler adjusted for sparse matrices\n",
    "type_school_pipe1 = Pipeline(steps=[\n",
    "    (\"encoder\", OneHotEncoder(handle_unknown='ignore')),\n",
    "    (\"scaler\", StandardScaler(with_mean=False))  # Adjusted for sparse matrices\n",
    "])\n",
    "\n",
    "school_accreditation_pipeline = Pipeline(steps=[\n",
    "    (\"encoder\", OrdinalEncoder(categories=[['A', 'B']]))\n",
    "])\n",
    "\n",
    "gender_pipe1 = Pipeline(steps=[\n",
    "    (\"encoder\", OneHotEncoder(handle_unknown='ignore')),\n",
    "    (\"scaler\", StandardScaler(with_mean=False))  # Adjusted for sparse matrices\n",
    "])\n",
    "\n",
    "interest_pipeline = Pipeline(steps=[\n",
    "    (\"encoder\", OrdinalEncoder(categories=[\n",
    "        ['Not Interested', 'Less Interested', 'Very Interested', 'Uncertain', 'Quiet Interested']\n",
    "    ])),\n",
    "    (\"scaler\", StandardScaler(with_mean=False))  # Adjusted for sparse matrices\n",
    "])\n",
    "\n",
    "residence_pipe1 = Pipeline(steps=[\n",
    "    (\"encoder\", OneHotEncoder(handle_unknown='ignore')),\n",
    "    (\"scaler\", StandardScaler(with_mean=False))  # Adjusted for sparse matrices\n",
    "])\n",
    "\n",
    "parent_age_pipe1 = Pipeline(steps=[\n",
    "    (\"scaler\", StandardScaler(with_mean=True))  # StandardScaler works fine with dense data\n",
    "])\n",
    "\n",
    "parent_salary_pipe1 = Pipeline(steps=[\n",
    "    (\"scaler\", StandardScaler(with_mean=True))  # StandardScaler works fine with dense data\n",
    "])\n",
    "\n",
    "average_grades_pipe1 = Pipeline(steps=[\n",
    "    (\"scaler\", StandardScaler(with_mean=True))  # StandardScaler works fine with dense data\n",
    "])\n",
    "\n",
    "parent_in_college_pipe1 = Pipeline(steps=[\n",
    "    (\"encoder\", OneHotEncoder(handle_unknown='ignore')),\n",
    "    (\"scaler\", StandardScaler(with_mean=False))  # Adjusted for sparse matrices\n",
    "])\n",
    "\n",
    "# Combine all pipelines using ColumnTransformer\n",
    "preprocessor = ColumnTransformer(\n",
    "    transformers=[\n",
    "        (\"type_school\", type_school_pipe1, ['type_school']),\n",
    "        (\"school_accreditation\", school_accreditation_pipeline, ['school_accreditation']),\n",
    "        (\"gender\", gender_pipe1, ['gender']),\n",
    "        (\"interest\", interest_pipeline, ['interest']),\n",
    "        (\"residence\", residence_pipe1, ['residence']),\n",
    "        (\"parent_age\", parent_age_pipe1, ['parent_age']),\n",
    "        (\"parent_salary\", parent_salary_pipe1, ['parent_salary']),\n",
    "        (\"average_grades\", average_grades_pipe1, ['average_grades']),\n",
    "        (\"parent_in_college\", parent_in_college_pipe1, ['parent_was_in_college'])\n",
    "    ],\n",
    "    remainder='passthrough'  # This will pass through the columns not explicitly mentioned in transformers\n",
    ")\n",
    "\n",
    "\n",
    "# Example usage\n"
   ]
  },
  {
   "cell_type": "code",
   "execution_count": 83,
   "metadata": {},
   "outputs": [],
   "source": [
    "train_x=preprocessor.fit_transform(train_x)\n",
    "test_x=preprocessor.transform(test_x)"
   ]
  },
  {
   "cell_type": "code",
   "execution_count": 84,
   "metadata": {},
   "outputs": [],
   "source": [
    "models={'lgr':LogisticRegression(),\n",
    "        'dt':DecisionTreeClassifier(),\n",
    "        'rf':RandomForestClassifier()}"
   ]
  },
  {
   "cell_type": "code",
   "execution_count": 97,
   "metadata": {},
   "outputs": [
    {
     "name": "stderr",
     "output_type": "stream",
     "text": [
      "c:\\Users\\Hariprasad\\Documents\\Admission-prediction\\env\\lib\\site-packages\\sklearn\\linear_model\\_logistic.py:460: ConvergenceWarning: lbfgs failed to converge (status=1):\n",
      "STOP: TOTAL NO. of ITERATIONS REACHED LIMIT.\n",
      "\n",
      "Increase the number of iterations (max_iter) or scale the data as shown in:\n",
      "    https://scikit-learn.org/stable/modules/preprocessing.html\n",
      "Please also refer to the documentation for alternative solver options:\n",
      "    https://scikit-learn.org/stable/modules/linear_model.html#logistic-regression\n",
      "  n_iter_i = _check_optimize_result(\n"
     ]
    },
    {
     "name": "stdout",
     "output_type": "stream",
     "text": [
      "Metrics for lgr:\n",
      "Confusion Matrix:\n",
      "[[109  22]\n",
      " [ 15 104]]\n",
      "Accuracy: 0.85\n",
      "Precision: 0.83\n",
      "Recall: 0.87\n",
      "Metrics for dt:\n",
      "Confusion Matrix:\n",
      "[[100  31]\n",
      " [ 19 100]]\n",
      "Accuracy: 0.80\n",
      "Precision: 0.76\n",
      "Recall: 0.84\n",
      "Metrics for rf:\n",
      "Confusion Matrix:\n",
      "[[113  18]\n",
      " [ 14 105]]\n",
      "Accuracy: 0.87\n",
      "Precision: 0.85\n",
      "Recall: 0.88\n"
     ]
    }
   ],
   "source": [
    "\n",
    "\n",
    "for name, model in models.items():\n",
    "    model.fit(train_x, train_y)\n",
    "    pred = model.predict(test_x)\n",
    "    \n",
    "    # Compute metrics\n",
    "    conf_matrix = confusion_matrix(test_y, pred)\n",
    "    acc = accuracy_score(test_y, pred)\n",
    "    prec = precision_score(test_y, pred) \n",
    "    rec = recall_score(test_y, pred)      \n",
    "\n",
    "    print(f\"Metrics for {name}:\\n\"\n",
    "          f\"Confusion Matrix:\\n{conf_matrix}\\n\"\n",
    "          f\"Accuracy: {acc:.2f}\\n\"\n",
    "          f\"Precision: {prec:.2f}\\n\"\n",
    "          f\"Recall: {rec:.2f}\")\n"
   ]
  },
  {
   "cell_type": "code",
   "execution_count": null,
   "metadata": {},
   "outputs": [],
   "source": []
  }
 ],
 "metadata": {
  "kernelspec": {
   "display_name": "Python 3 (ipykernel)",
   "language": "python",
   "name": "python3"
  },
  "language_info": {
   "codemirror_mode": {
    "name": "ipython",
    "version": 3
   },
   "file_extension": ".py",
   "mimetype": "text/x-python",
   "name": "python",
   "nbconvert_exporter": "python",
   "pygments_lexer": "ipython3",
   "version": "3.8.19"
  }
 },
 "nbformat": 4,
 "nbformat_minor": 4
}
